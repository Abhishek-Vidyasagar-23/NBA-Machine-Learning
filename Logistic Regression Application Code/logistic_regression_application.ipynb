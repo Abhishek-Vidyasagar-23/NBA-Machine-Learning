{
 "cells": [
  {
   "cell_type": "code",
   "execution_count": 3,
   "metadata": {},
   "outputs": [],
   "source": [
    "# import all the necessary packages\n",
    "import pandas as pd\n",
    "import numpy as np\n",
    "from patsy import dmatrices\n",
    "import matplotlib.pyplot as plt\n",
    "import statsmodels.api as sm\n",
    "from statsmodels.stats.outliers_influence import variance_inflation_factor\n",
    "import sklearn\n",
    "from sklearn.linear_model import LogisticRegression\n",
    "from sklearn.model_selection import train_test_split\n",
    "from sklearn import metrics\n",
    "from sklearn.metrics import mean_squared_error\n",
    "\n",
    "import pickle\n",
    "import joblib"
   ]
  },
  {
   "cell_type": "code",
   "execution_count": 4,
   "metadata": {},
   "outputs": [],
   "source": [
    "# read the csv file\n",
    "df= pd.read_csv('logistic_regression_updated.csv')"
   ]
  },
  {
   "cell_type": "code",
   "execution_count": 5,
   "metadata": {
    "scrolled": true
   },
   "outputs": [
    {
     "data": {
      "text/html": [
       "<div>\n",
       "<style scoped>\n",
       "    .dataframe tbody tr th:only-of-type {\n",
       "        vertical-align: middle;\n",
       "    }\n",
       "\n",
       "    .dataframe tbody tr th {\n",
       "        vertical-align: top;\n",
       "    }\n",
       "\n",
       "    .dataframe thead th {\n",
       "        text-align: right;\n",
       "    }\n",
       "</style>\n",
       "<table border=\"1\" class=\"dataframe\">\n",
       "  <thead>\n",
       "    <tr style=\"text-align: right;\">\n",
       "      <th></th>\n",
       "      <th>Age</th>\n",
       "      <th>GS</th>\n",
       "      <th>G</th>\n",
       "      <th>Assist_Pct</th>\n",
       "      <th>Usage_Pct</th>\n",
       "      <th>DRtg</th>\n",
       "      <th>Rising_Star</th>\n",
       "    </tr>\n",
       "  </thead>\n",
       "  <tbody>\n",
       "    <tr>\n",
       "      <th>0</th>\n",
       "      <td>24.0</td>\n",
       "      <td>0.0</td>\n",
       "      <td>22.000000</td>\n",
       "      <td>3.8</td>\n",
       "      <td>17.6</td>\n",
       "      <td>106</td>\n",
       "      <td>0</td>\n",
       "    </tr>\n",
       "    <tr>\n",
       "      <th>1</th>\n",
       "      <td>24.0</td>\n",
       "      <td>1.0</td>\n",
       "      <td>50.000000</td>\n",
       "      <td>23.9</td>\n",
       "      <td>22.7</td>\n",
       "      <td>109</td>\n",
       "      <td>0</td>\n",
       "    </tr>\n",
       "    <tr>\n",
       "      <th>2</th>\n",
       "      <td>25.0</td>\n",
       "      <td>82.0</td>\n",
       "      <td>82.000000</td>\n",
       "      <td>25.6</td>\n",
       "      <td>25.7</td>\n",
       "      <td>112</td>\n",
       "      <td>0</td>\n",
       "    </tr>\n",
       "    <tr>\n",
       "      <th>3</th>\n",
       "      <td>20.0</td>\n",
       "      <td>39.0</td>\n",
       "      <td>68.333333</td>\n",
       "      <td>10.5</td>\n",
       "      <td>20.1</td>\n",
       "      <td>111</td>\n",
       "      <td>0</td>\n",
       "    </tr>\n",
       "    <tr>\n",
       "      <th>4</th>\n",
       "      <td>25.0</td>\n",
       "      <td>0.0</td>\n",
       "      <td>32.000000</td>\n",
       "      <td>10.6</td>\n",
       "      <td>16.4</td>\n",
       "      <td>106</td>\n",
       "      <td>0</td>\n",
       "    </tr>\n",
       "  </tbody>\n",
       "</table>\n",
       "</div>"
      ],
      "text/plain": [
       "    Age    GS          G  Assist_Pct  Usage_Pct  DRtg  Rising_Star\n",
       "0  24.0   0.0  22.000000         3.8       17.6   106            0\n",
       "1  24.0   1.0  50.000000        23.9       22.7   109            0\n",
       "2  25.0  82.0  82.000000        25.6       25.7   112            0\n",
       "3  20.0  39.0  68.333333        10.5       20.1   111            0\n",
       "4  25.0   0.0  32.000000        10.6       16.4   106            0"
      ]
     },
     "execution_count": 5,
     "metadata": {},
     "output_type": "execute_result"
    }
   ],
   "source": [
    "\n",
    "df.head()"
   ]
  },
  {
   "cell_type": "code",
   "execution_count": 6,
   "metadata": {},
   "outputs": [],
   "source": [
    "# convert the array values\n",
    "array = df.values"
   ]
  },
  {
   "cell_type": "code",
   "execution_count": 7,
   "metadata": {},
   "outputs": [],
   "source": [
    "# assign to the dependent and independent variables\n",
    "X= array[:,0:6]\n",
    "Y= array[:,6]"
   ]
  },
  {
   "cell_type": "code",
   "execution_count": 8,
   "metadata": {},
   "outputs": [],
   "source": [
    "from sklearn.preprocessing import StandardScaler\n",
    "scaler = StandardScaler()"
   ]
  },
  {
   "cell_type": "code",
   "execution_count": 10,
   "metadata": {},
   "outputs": [],
   "source": [
    "# train and test the data\n",
    "X_train, X_test, Y_train, Y_test = train_test_split(X, Y, test_size=0.25, random_state=1)"
   ]
  },
  {
   "cell_type": "code",
   "execution_count": 11,
   "metadata": {},
   "outputs": [],
   "source": [
    "X_train = scaler.fit_transform(X_train)"
   ]
  },
  {
   "cell_type": "code",
   "execution_count": 12,
   "metadata": {},
   "outputs": [
    {
     "data": {
      "text/plain": [
       "LogisticRegression(C=1.0, class_weight=None, dual=False, fit_intercept=True,\n",
       "                   intercept_scaling=1, l1_ratio=None, max_iter=100,\n",
       "                   multi_class='auto', n_jobs=None, penalty='l2',\n",
       "                   random_state=None, solver='lbfgs', tol=0.0001, verbose=0,\n",
       "                   warm_start=False)"
      ]
     },
     "execution_count": 12,
     "metadata": {},
     "output_type": "execute_result"
    }
   ],
   "source": [
    "logmodel= LogisticRegression()\n",
    "logmodel.fit(X_train,Y_train)"
   ]
  },
  {
   "cell_type": "code",
   "execution_count": 13,
   "metadata": {},
   "outputs": [
    {
     "name": "stdout",
     "output_type": "stream",
     "text": [
      "Optimization terminated successfully.\n",
      "         Current function value: 0.075557\n",
      "         Iterations 10\n",
      "                         Results: Logit\n",
      "=================================================================\n",
      "Model:              Logit            Pseudo R-squared: 0.717     \n",
      "Dependent Variable: y                AIC:              176.4111  \n",
      "Date:               2020-06-14 13:33 BIC:              206.3637  \n",
      "No. Observations:   1088             Log-Likelihood:   -82.206   \n",
      "Df Model:           5                LL-Null:          -290.83   \n",
      "Df Residuals:       1082             LLR p-value:      5.6756e-88\n",
      "Converged:          1.0000           Scale:            1.0000    \n",
      "No. Iterations:     10.0000                                      \n",
      "--------------------------------------------------------------------\n",
      "       Coef.     Std.Err.       z       P>|z|      [0.025     0.975]\n",
      "--------------------------------------------------------------------\n",
      "x1     0.2437      0.0653     3.7343    0.0002     0.1158     0.3717\n",
      "x2     0.0613      0.0139     4.4040    0.0000     0.0340     0.0885\n",
      "x3     0.0523      0.0254     2.0559    0.0398     0.0024     0.1022\n",
      "x4     0.0464      0.0171     2.7107    0.0067     0.0129     0.0800\n",
      "x5     0.2305      0.0455     5.0617    0.0000     0.1413     0.3198\n",
      "x6    -0.1852      0.0261    -7.0842    0.0000    -0.2364    -0.1339\n",
      "=================================================================\n",
      "\n"
     ]
    }
   ],
   "source": [
    "# check for p values\n",
    "import statsmodels.api as sm\n",
    "logit_model=sm.Logit(Y,X)\n",
    "result=logit_model.fit()\n",
    "print(result.summary2())"
   ]
  },
  {
   "cell_type": "code",
   "execution_count": 14,
   "metadata": {},
   "outputs": [],
   "source": [
    "filename = 'finalised_pickle_logmodel_1.sav'"
   ]
  },
  {
   "cell_type": "code",
   "execution_count": 15,
   "metadata": {},
   "outputs": [],
   "source": [
    "pickle.dump(logmodel, open(filename,'wb'))"
   ]
  },
  {
   "cell_type": "code",
   "execution_count": 16,
   "metadata": {},
   "outputs": [],
   "source": [
    "########################################### using job lib#################################################################"
   ]
  },
  {
   "cell_type": "code",
   "execution_count": 17,
   "metadata": {},
   "outputs": [],
   "source": [
    "from sklearn.metrics import roc_curve\n",
    "from sklearn.metrics import roc_auc_score\n",
    "from matplotlib import pyplot"
   ]
  },
  {
   "cell_type": "code",
   "execution_count": 18,
   "metadata": {},
   "outputs": [],
   "source": [
    "# generate a no skill prediction( for the majority class)\n",
    "ns_prob = [0 for _ in range(len(Y_test))]\n",
    "\n",
    "# predict the probabilities\n",
    "lr_prob= logmodel.predict_proba(X_test)\n",
    "\n",
    "# keep the probabilities for positive outcomes only\n",
    "lr_prob = lr_prob[:,1]\n"
   ]
  },
  {
   "cell_type": "code",
   "execution_count": 19,
   "metadata": {},
   "outputs": [],
   "source": [
    "# calculate the scores \n",
    "ns_auc = roc_auc_score(Y_test,ns_prob)\n",
    "lr_auc = roc_auc_score(Y_test,lr_prob)\n"
   ]
  },
  {
   "cell_type": "code",
   "execution_count": 20,
   "metadata": {},
   "outputs": [
    {
     "name": "stdout",
     "output_type": "stream",
     "text": [
      "Not a star: ROC AUC= 0.500\n",
      "Logistic: ROC AUC= 0.927\n"
     ]
    }
   ],
   "source": [
    "# summarize the scores\n",
    "print('Not a star: ROC AUC= %.3f'%(ns_auc))\n",
    "print('Logistic: ROC AUC= %.3f'%(lr_auc))\n"
   ]
  },
  {
   "cell_type": "code",
   "execution_count": 21,
   "metadata": {},
   "outputs": [],
   "source": [
    "# calculate the roc curvers\n",
    "ns_fpr,ns_tpr,_ = roc_curve(Y_test,ns_prob)\n",
    "lr_fpr,lr_tpr,_ = roc_curve(Y_test,lr_prob)\n"
   ]
  },
  {
   "cell_type": "code",
   "execution_count": 22,
   "metadata": {},
   "outputs": [
    {
     "data": {
      "image/png": "[encoded data removed]",
      "text/plain": [
       "<Figure size 432x288 with 1 Axes>"
      ]
     },
     "metadata": {
      "needs_background": "light"
     },
     "output_type": "display_data"
    }
   ],
   "source": [
    "# plot the curve for the model\n",
    "from matplotlib import pyplot\n",
    "pyplot.plot(ns_fpr,ns_tpr,linestyle='--',label='Not a star')\n",
    "pyplot.plot(lr_fpr,lr_tpr,marker='.',label='Logistic')\n",
    "\n",
    "# axis labels\n",
    "pyplot.xlabel('False Positive Rate')\n",
    "pyplot.ylabel('True Positive Rate')\n",
    "\n",
    "# show the legend\n",
    "pyplot.legend()\n",
    "\n",
    "# show the plot\n",
    "pyplot.show()"
   ]
  },
  {
   "cell_type": "code",
   "execution_count": 19,
   "metadata": {},
   "outputs": [
    {
     "name": "stdout",
     "output_type": "stream",
     "text": [
      "Logistic: f1=0.296 auc=0.657\n"
     ]
    }
   ],
   "source": [
    "### precision and recall curves\n",
    "from sklearn.metrics import precision_recall_curve\n",
    "from sklearn.metrics import f1_score\n",
    "from sklearn.metrics import auc\n",
    "lr_precision,lr_recall,_= precision_recall_curve(Y_test,lr_prob)\n",
    "\n",
    "# predict class values\n",
    "yhat = logmodel.predict(X_test)\n",
    "lr_f1,lr_auc = f1_score(Y_test,yhat),auc(lr_recall,lr_precision)\n",
    "\n",
    "# summarize the scores\n",
    "print('Logistic: f1=%.3f auc=%.3f'%(lr_f1,lr_auc))"
   ]
  },
  {
   "cell_type": "code",
   "execution_count": 20,
   "metadata": {
    "scrolled": true
   },
   "outputs": [
    {
     "data": {
      "image/png": "[encoded data removed]",
      "text/plain": [
       "<Figure size 432x288 with 1 Axes>"
      ]
     },
     "metadata": {
      "needs_background": "light"
     },
     "output_type": "display_data"
    }
   ],
   "source": [
    "# plot the precision and recall curves\n",
    "not_star = len(Y_test[Y_test==1]/len(Y_test))\n",
    "pyplot.plot([0,1],[not_star,not_star], linestyle='--', label= 'Not star')\n",
    "pyplot.plot(lr_recall,lr_precision,marker=',',label='Logistic')\n",
    "\n",
    "# axis labels\n",
    "pyplot.xlabel('Recall')\n",
    "pyplot.ylabel('Precision')\n",
    "\n",
    "#show the legend\n",
    "pyplot.legend()\n",
    "\n",
    "# show the plot\n",
    "pyplot.show()"
   ]
  },
  {
   "cell_type": "code",
   "execution_count": null,
   "metadata": {},
   "outputs": [],
   "source": [
    "###################### Logisitic Regression on standardised Values ####################################"
   ]
  },
  {
   "cell_type": "code",
   "execution_count": 21,
   "metadata": {},
   "outputs": [],
   "source": [
    "data = pd.read_csv('logistic_regression_standardised_vif.csv')"
   ]
  },
  {
   "cell_type": "code",
   "execution_count": 22,
   "metadata": {},
   "outputs": [
    {
     "data": {
      "text/html": [
       "<div>\n",
       "<style scoped>\n",
       "    .dataframe tbody tr th:only-of-type {\n",
       "        vertical-align: middle;\n",
       "    }\n",
       "\n",
       "    .dataframe tbody tr th {\n",
       "        vertical-align: top;\n",
       "    }\n",
       "\n",
       "    .dataframe thead th {\n",
       "        text-align: right;\n",
       "    }\n",
       "</style>\n",
       "<table border=\"1\" class=\"dataframe\">\n",
       "  <thead>\n",
       "    <tr style=\"text-align: right;\">\n",
       "      <th></th>\n",
       "      <th>Age</th>\n",
       "      <th>GS</th>\n",
       "      <th>G</th>\n",
       "      <th>Assist_Pct</th>\n",
       "      <th>Usage_Pct</th>\n",
       "      <th>DRtg</th>\n",
       "      <th>Rising_Star</th>\n",
       "    </tr>\n",
       "  </thead>\n",
       "  <tbody>\n",
       "    <tr>\n",
       "      <th>0</th>\n",
       "      <td>0.212413</td>\n",
       "      <td>-0.697077</td>\n",
       "      <td>-0.697992</td>\n",
       "      <td>-0.963125</td>\n",
       "      <td>-0.370282</td>\n",
       "      <td>-0.916925</td>\n",
       "      <td>0</td>\n",
       "    </tr>\n",
       "    <tr>\n",
       "      <th>1</th>\n",
       "      <td>0.212413</td>\n",
       "      <td>-0.652427</td>\n",
       "      <td>0.424656</td>\n",
       "      <td>0.994419</td>\n",
       "      <td>0.471879</td>\n",
       "      <td>-0.278111</td>\n",
       "      <td>0</td>\n",
       "    </tr>\n",
       "    <tr>\n",
       "      <th>2</th>\n",
       "      <td>0.599864</td>\n",
       "      <td>2.964228</td>\n",
       "      <td>1.707684</td>\n",
       "      <td>1.159983</td>\n",
       "      <td>0.967269</td>\n",
       "      <td>0.360703</td>\n",
       "      <td>0</td>\n",
       "    </tr>\n",
       "    <tr>\n",
       "      <th>3</th>\n",
       "      <td>-1.337389</td>\n",
       "      <td>1.044275</td>\n",
       "      <td>1.159724</td>\n",
       "      <td>-0.310611</td>\n",
       "      <td>0.042542</td>\n",
       "      <td>0.147765</td>\n",
       "      <td>0</td>\n",
       "    </tr>\n",
       "    <tr>\n",
       "      <th>4</th>\n",
       "      <td>0.599864</td>\n",
       "      <td>-0.697077</td>\n",
       "      <td>-0.297046</td>\n",
       "      <td>-0.300871</td>\n",
       "      <td>-0.568438</td>\n",
       "      <td>-0.916925</td>\n",
       "      <td>0</td>\n",
       "    </tr>\n",
       "  </tbody>\n",
       "</table>\n",
       "</div>"
      ],
      "text/plain": [
       "        Age        GS         G  Assist_Pct  Usage_Pct      DRtg  Rising_Star\n",
       "0  0.212413 -0.697077 -0.697992   -0.963125  -0.370282 -0.916925            0\n",
       "1  0.212413 -0.652427  0.424656    0.994419   0.471879 -0.278111            0\n",
       "2  0.599864  2.964228  1.707684    1.159983   0.967269  0.360703            0\n",
       "3 -1.337389  1.044275  1.159724   -0.310611   0.042542  0.147765            0\n",
       "4  0.599864 -0.697077 -0.297046   -0.300871  -0.568438 -0.916925            0"
      ]
     },
     "execution_count": 22,
     "metadata": {},
     "output_type": "execute_result"
    }
   ],
   "source": [
    "data.head()"
   ]
  },
  {
   "cell_type": "code",
   "execution_count": 24,
   "metadata": {},
   "outputs": [
    {
     "name": "stdout",
     "output_type": "stream",
     "text": [
      "Age+GS+G+Assist_Pct+Usage_Pct+DRtg+Rising_Star\n"
     ]
    }
   ],
   "source": [
    "features=\"+\".join(df.columns)\n",
    "\n",
    "print(features)"
   ]
  },
  {
   "cell_type": "code",
   "execution_count": 23,
   "metadata": {},
   "outputs": [],
   "source": [
    "y,X = dmatrices('Rising_Star~Age+GS+G+Assist_Pct+Usage_Pct+DRtg',df,return_type='dataframe')"
   ]
  },
  {
   "cell_type": "code",
   "execution_count": 24,
   "metadata": {},
   "outputs": [
    {
     "data": {
      "text/html": [
       "<div>\n",
       "<style scoped>\n",
       "    .dataframe tbody tr th:only-of-type {\n",
       "        vertical-align: middle;\n",
       "    }\n",
       "\n",
       "    .dataframe tbody tr th {\n",
       "        vertical-align: top;\n",
       "    }\n",
       "\n",
       "    .dataframe thead th {\n",
       "        text-align: right;\n",
       "    }\n",
       "</style>\n",
       "<table border=\"1\" class=\"dataframe\">\n",
       "  <thead>\n",
       "    <tr style=\"text-align: right;\">\n",
       "      <th></th>\n",
       "      <th>VIF Factor</th>\n",
       "      <th>Features</th>\n",
       "    </tr>\n",
       "  </thead>\n",
       "  <tbody>\n",
       "    <tr>\n",
       "      <th>0</th>\n",
       "      <td>711.3</td>\n",
       "      <td>Intercept</td>\n",
       "    </tr>\n",
       "    <tr>\n",
       "      <th>1</th>\n",
       "      <td>1.0</td>\n",
       "      <td>Age</td>\n",
       "    </tr>\n",
       "    <tr>\n",
       "      <th>2</th>\n",
       "      <td>2.3</td>\n",
       "      <td>GS</td>\n",
       "    </tr>\n",
       "    <tr>\n",
       "      <th>3</th>\n",
       "      <td>2.1</td>\n",
       "      <td>G</td>\n",
       "    </tr>\n",
       "    <tr>\n",
       "      <th>4</th>\n",
       "      <td>1.2</td>\n",
       "      <td>Assist_Pct</td>\n",
       "    </tr>\n",
       "    <tr>\n",
       "      <th>5</th>\n",
       "      <td>1.3</td>\n",
       "      <td>Usage_Pct</td>\n",
       "    </tr>\n",
       "    <tr>\n",
       "      <th>6</th>\n",
       "      <td>1.0</td>\n",
       "      <td>DRtg</td>\n",
       "    </tr>\n",
       "  </tbody>\n",
       "</table>\n",
       "</div>"
      ],
      "text/plain": [
       "   VIF Factor    Features\n",
       "0       711.3   Intercept\n",
       "1         1.0         Age\n",
       "2         2.3          GS\n",
       "3         2.1           G\n",
       "4         1.2  Assist_Pct\n",
       "5         1.3   Usage_Pct\n",
       "6         1.0        DRtg"
      ]
     },
     "execution_count": 24,
     "metadata": {},
     "output_type": "execute_result"
    }
   ],
   "source": [
    "# from statsmodels.stats.outliers_influence import variance_inflation_factor\n",
    "vif=pd.DataFrame()\n",
    "vif[\"VIF Factor\"] = [variance_inflation_factor(X.values, i) for i in range(X.shape[1])]\n",
    "vif[\"Features\"]=X.columns\n",
    "vif.round(1)"
   ]
  },
  {
   "cell_type": "code",
   "execution_count": 25,
   "metadata": {},
   "outputs": [
    {
     "name": "stdout",
     "output_type": "stream",
     "text": [
      "Classification Report\n",
      "              precision    recall  f1-score   support\n",
      "\n",
      "           0       0.99      0.98      0.99       255\n",
      "           1       0.79      0.88      0.83        17\n",
      "\n",
      "    accuracy                           0.98       272\n",
      "   macro avg       0.89      0.93      0.91       272\n",
      "weighted avg       0.98      0.98      0.98       272\n",
      "\n",
      "Confusion Matrix\n",
      "[[251   4]\n",
      " [  2  15]]\n",
      "Accuracy Score\n",
      "0.9779411764705882\n"
     ]
    }
   ],
   "source": [
    "import sklearn\n",
    "from sklearn.model_selection import train_test_split\n",
    "from sklearn.linear_model import LogisticRegression\n",
    "from sklearn.metrics import classification_report\n",
    "from sklearn.metrics import confusion_matrix,accuracy_score,precision_score\n",
    "\n",
    "x = df.drop('Rising_Star', axis=1)\n",
    "y = df['Rising_Star']\n",
    "x_train, x_test, y_train, y_test = train_test_split(x, y, test_size=0.25, random_state=1)\n",
    "logmodel = LogisticRegression()\n",
    "logmodel.fit(x_train, y_train)\n",
    "#print(logmodel.summary())\n",
    "\n",
    "predictions = logmodel.predict(x_test)\n",
    "print('Classification Report')\n",
    "print(classification_report(y_test, predictions))\n",
    "print('Confusion Matrix')\n",
    "print(confusion_matrix(y_test, predictions))\n",
    "print('Accuracy Score')\n",
    "print(accuracy_score(y_test, predictions))\n",
    "\n"
   ]
  },
  {
   "cell_type": "code",
   "execution_count": 26,
   "metadata": {},
   "outputs": [
    {
     "name": "stdout",
     "output_type": "stream",
     "text": [
      "Accuracy: 96.97%\n"
     ]
    }
   ],
   "source": [
    "# Cross Validation\n",
    "from sklearn import model_selection\n",
    "from sklearn.model_selection import KFold\n",
    "\n",
    "x = df.drop('Rising_Star', axis=1)\n",
    "y = df['Rising_Star']\n",
    "kfold= model_selection.KFold(n_splits=10,random_state=None)\n",
    "model_kfold = LogisticRegression()\n",
    "results_kfold = model_selection.cross_val_score(model_kfold, x, y, cv=kfold)\n",
    "print(\"Accuracy: %.2f%%\" % (results_kfold.mean()*100.0))"
   ]
  },
  {
   "cell_type": "code",
   "execution_count": 27,
   "metadata": {},
   "outputs": [
    {
     "name": "stdout",
     "output_type": "stream",
     "text": [
      "Optimization terminated successfully.\n",
      "         Current function value: 0.075557\n",
      "         Iterations 10\n",
      "                         Results: Logit\n",
      "=================================================================\n",
      "Model:              Logit            Pseudo R-squared: 0.717     \n",
      "Dependent Variable: Rising_Star      AIC:              176.4111  \n",
      "Date:               2020-06-14 12:18 BIC:              206.3637  \n",
      "No. Observations:   1088             Log-Likelihood:   -82.206   \n",
      "Df Model:           5                LL-Null:          -290.83   \n",
      "Df Residuals:       1082             LLR p-value:      5.6756e-88\n",
      "Converged:          1.0000           Scale:            1.0000    \n",
      "No. Iterations:     10.0000                                      \n",
      "------------------------------------------------------------------\n",
      "               Coef.   Std.Err.     z     P>|z|    [0.025   0.975]\n",
      "------------------------------------------------------------------\n",
      "Age            0.2437    0.0653   3.7343  0.0002   0.1158   0.3717\n",
      "GS             0.0613    0.0139   4.4040  0.0000   0.0340   0.0885\n",
      "G              0.0523    0.0254   2.0559  0.0398   0.0024   0.1022\n",
      "Assist_Pct     0.0464    0.0171   2.7107  0.0067   0.0129   0.0800\n",
      "Usage_Pct      0.2305    0.0455   5.0617  0.0000   0.1413   0.3198\n",
      "DRtg          -0.1852    0.0261  -7.0842  0.0000  -0.2364  -0.1339\n",
      "=================================================================\n",
      "\n"
     ]
    }
   ],
   "source": [
    "# check for p values\n",
    "import statsmodels.api as sm\n",
    "logit_model=sm.Logit(y,x)\n",
    "result=logit_model.fit()\n",
    "print(result.summary2())"
   ]
  },
  {
   "cell_type": "code",
   "execution_count": null,
   "metadata": {},
   "outputs": [],
   "source": []
  }
 ],
 "metadata": {
  "kernelspec": {
   "display_name": "Python 3",
   "language": "python",
   "name": "python3"
  },
  "language_info": {
   "codemirror_mode": {
    "name": "ipython",
    "version": 3
   },
   "file_extension": ".py",
   "mimetype": "text/x-python",
   "name": "python",
   "nbconvert_exporter": "python",
   "pygments_lexer": "ipython3",
   "version": "3.7.6"
  }
 },
 "nbformat": 4,
 "nbformat_minor": 4
}
