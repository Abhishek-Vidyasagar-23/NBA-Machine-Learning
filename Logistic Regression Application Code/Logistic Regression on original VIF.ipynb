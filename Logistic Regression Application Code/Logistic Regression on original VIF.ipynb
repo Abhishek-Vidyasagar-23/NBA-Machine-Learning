{
 "cells": [
  {
   "cell_type": "code",
   "execution_count": 1,
   "metadata": {},
   "outputs": [],
   "source": [
    "#import the necessary packages\n",
    "import pandas as pd\n",
    "import numpy as np\n",
    "from patsy import dmatrices\n",
    "import statsmodels.api as sm\n",
    "from sklearn.linear_model import LogisticRegression\n",
    "from sklearn.model_selection import train_test_split"
   ]
  },
  {
   "cell_type": "code",
   "execution_count": 2,
   "metadata": {},
   "outputs": [],
   "source": [
    "# read csv files\n",
    "df = pd.read_csv('logistic_regression_original.csv')"
   ]
  },
  {
   "cell_type": "code",
   "execution_count": 3,
   "metadata": {},
   "outputs": [
    {
     "name": "stdout",
     "output_type": "stream",
     "text": [
      "Age+GS+G+Assist_Pct+Usage_Pct+DRtg+Rising_Star\n"
     ]
    }
   ],
   "source": [
    "features=\"+\".join(df.columns)\n",
    "\n",
    "print(features)"
   ]
  },
  {
   "cell_type": "code",
   "execution_count": 6,
   "metadata": {},
   "outputs": [],
   "source": [
    "y,X = dmatrices('Rising_Star~Age+GS+G+Assist_Pct+Usage_Pct+DRtg',df,return_type='dataframe')"
   ]
  },
  {
   "cell_type": "code",
   "execution_count": 7,
   "metadata": {},
   "outputs": [
    {
     "data": {
      "text/html": [
       "<div>\n",
       "<style scoped>\n",
       "    .dataframe tbody tr th:only-of-type {\n",
       "        vertical-align: middle;\n",
       "    }\n",
       "\n",
       "    .dataframe tbody tr th {\n",
       "        vertical-align: top;\n",
       "    }\n",
       "\n",
       "    .dataframe thead th {\n",
       "        text-align: right;\n",
       "    }\n",
       "</style>\n",
       "<table border=\"1\" class=\"dataframe\">\n",
       "  <thead>\n",
       "    <tr style=\"text-align: right;\">\n",
       "      <th></th>\n",
       "      <th>VIF Factor</th>\n",
       "      <th>Features</th>\n",
       "    </tr>\n",
       "  </thead>\n",
       "  <tbody>\n",
       "    <tr>\n",
       "      <th>0</th>\n",
       "      <td>1.0</td>\n",
       "      <td>Intercept</td>\n",
       "    </tr>\n",
       "    <tr>\n",
       "      <th>1</th>\n",
       "      <td>1.0</td>\n",
       "      <td>Age</td>\n",
       "    </tr>\n",
       "    <tr>\n",
       "      <th>2</th>\n",
       "      <td>2.3</td>\n",
       "      <td>GS</td>\n",
       "    </tr>\n",
       "    <tr>\n",
       "      <th>3</th>\n",
       "      <td>2.1</td>\n",
       "      <td>G</td>\n",
       "    </tr>\n",
       "    <tr>\n",
       "      <th>4</th>\n",
       "      <td>1.2</td>\n",
       "      <td>Assist_Pct</td>\n",
       "    </tr>\n",
       "    <tr>\n",
       "      <th>5</th>\n",
       "      <td>1.3</td>\n",
       "      <td>Usage_Pct</td>\n",
       "    </tr>\n",
       "    <tr>\n",
       "      <th>6</th>\n",
       "      <td>1.0</td>\n",
       "      <td>DRtg</td>\n",
       "    </tr>\n",
       "  </tbody>\n",
       "</table>\n",
       "</div>"
      ],
      "text/plain": [
       "   VIF Factor    Features\n",
       "0         1.0   Intercept\n",
       "1         1.0         Age\n",
       "2         2.3          GS\n",
       "3         2.1           G\n",
       "4         1.2  Assist_Pct\n",
       "5         1.3   Usage_Pct\n",
       "6         1.0        DRtg"
      ]
     },
     "execution_count": 7,
     "metadata": {},
     "output_type": "execute_result"
    }
   ],
   "source": [
    " from statsmodels.stats.outliers_influence import variance_inflation_factor\n",
    "vif=pd.DataFrame()\n",
    "vif[\"VIF Factor\"] = [variance_inflation_factor(X.values, i) for i in range(X.shape[1])]\n",
    "vif[\"Features\"]=X.columns\n",
    "vif.round(1)"
   ]
  },
  {
   "cell_type": "code",
   "execution_count": 8,
   "metadata": {},
   "outputs": [
    {
     "name": "stdout",
     "output_type": "stream",
     "text": [
      "Classification Report\n",
      "              precision    recall  f1-score   support\n",
      "\n",
      "           0       0.99      0.99      0.99       255\n",
      "           1       0.83      0.88      0.86        17\n",
      "\n",
      "    accuracy                           0.98       272\n",
      "   macro avg       0.91      0.94      0.92       272\n",
      "weighted avg       0.98      0.98      0.98       272\n",
      "\n",
      "Confusion Matrix\n",
      "[[252   3]\n",
      " [  2  15]]\n",
      "Accuracy Score\n",
      "0.9816176470588235\n"
     ]
    }
   ],
   "source": [
    "import sklearn\n",
    "from sklearn.model_selection import train_test_split\n",
    "from sklearn.linear_model import LogisticRegression\n",
    "from sklearn.metrics import classification_report\n",
    "from sklearn.metrics import confusion_matrix,accuracy_score,precision_score\n",
    "\n",
    "x = df.drop('Rising_Star', axis=1)\n",
    "y = df['Rising_Star']\n",
    "x_train, x_test, y_train, y_test = train_test_split(x, y, test_size=0.25, random_state=1)\n",
    "logmodel = LogisticRegression()\n",
    "logmodel.fit(x_train, y_train)\n",
    "#print(logmodel.summary())\n",
    "\n",
    "predictions = logmodel.predict(x_test)\n",
    "print('Classification Report')\n",
    "print(classification_report(y_test, predictions))\n",
    "print('Confusion Matrix')\n",
    "print(confusion_matrix(y_test, predictions))\n",
    "print('Accuracy Score')\n",
    "print(accuracy_score(y_test, predictions))\n",
    "\n"
   ]
  },
  {
   "cell_type": "code",
   "execution_count": 9,
   "metadata": {},
   "outputs": [
    {
     "name": "stdout",
     "output_type": "stream",
     "text": [
      "Accuracy: 96.97%\n"
     ]
    }
   ],
   "source": [
    "# Cross Validation\n",
    "from sklearn import model_selection\n",
    "from sklearn.model_selection import KFold\n",
    "\n",
    "x = df.drop('Rising_Star', axis=1)\n",
    "y = df['Rising_Star']\n",
    "kfold= model_selection.KFold(n_splits=10,random_state=None)\n",
    "model_kfold = LogisticRegression()\n",
    "results_kfold = model_selection.cross_val_score(model_kfold, x, y, cv=kfold)\n",
    "print(\"Accuracy: %.2f%%\" % (results_kfold.mean()*100.0))"
   ]
  },
  {
   "cell_type": "code",
   "execution_count": 10,
   "metadata": {},
   "outputs": [
    {
     "name": "stdout",
     "output_type": "stream",
     "text": [
      "Optimization terminated successfully.\n",
      "         Current function value: 0.614068\n",
      "         Iterations 6\n",
      "                         Results: Logit\n",
      "================================================================\n",
      "Model:              Logit            Pseudo R-squared: -1.297   \n",
      "Dependent Variable: Rising_Star      AIC:              1348.2111\n",
      "Date:               2020-06-14 12:16 BIC:              1378.1636\n",
      "No. Observations:   1088             Log-Likelihood:   -668.11  \n",
      "Df Model:           5                LL-Null:          -290.83  \n",
      "Df Residuals:       1082             LLR p-value:      1.0000   \n",
      "Converged:          1.0000           Scale:            1.0000   \n",
      "No. Iterations:     6.0000                                      \n",
      "-----------------------------------------------------------------\n",
      "              Coef.   Std.Err.     z     P>|z|    [0.025   0.975]\n",
      "-----------------------------------------------------------------\n",
      "Age           0.3126    0.0755   4.1420  0.0000   0.1647   0.4606\n",
      "GS            0.8966    0.1143   7.8470  0.0000   0.6726   1.1205\n",
      "G            -0.2344    0.0938  -2.4985  0.0125  -0.4183  -0.0505\n",
      "Assist_Pct    0.1492    0.0748   1.9943  0.0461   0.0026   0.2958\n",
      "Usage_Pct     0.1890    0.0741   2.5508  0.0107   0.0438   0.3342\n",
      "DRtg         -0.1113    0.0658  -1.6910  0.0908  -0.2403   0.0177\n",
      "================================================================\n",
      "\n"
     ]
    }
   ],
   "source": [
    "# check for p values\n",
    "import statsmodels.api as sm\n",
    "logit_model=sm.Logit(y,x)\n",
    "result=logit_model.fit()\n",
    "print(result.summary2())"
   ]
  },
  {
   "cell_type": "code",
   "execution_count": 11,
   "metadata": {},
   "outputs": [],
   "source": [
    "#### Plotting ROC and AUC for Logistic Regression\n",
    "from sklearn.metrics import roc_curve\n",
    "from sklearn.metrics import roc_auc_score\n",
    "from matplotlib import pyplot"
   ]
  },
  {
   "cell_type": "code",
   "execution_count": 12,
   "metadata": {},
   "outputs": [],
   "source": [
    "# generate a no skill prediction( for the majority class)\n",
    "ns_prob = [0 for _ in range(len(y_test))]\n",
    "\n",
    "# predict the probabilities\n",
    "lr_prob= logmodel.predict_proba(x_test)\n",
    "\n",
    "# keep the probabilities for positive outcomes only\n",
    "lr_prob = lr_prob[:,1]\n"
   ]
  },
  {
   "cell_type": "code",
   "execution_count": 13,
   "metadata": {},
   "outputs": [],
   "source": [
    "# calculate the scores \n",
    "ns_auc = roc_auc_score(y_test,ns_prob)\n",
    "lr_auc = roc_auc_score(y_test,lr_prob)"
   ]
  },
  {
   "cell_type": "code",
   "execution_count": 14,
   "metadata": {},
   "outputs": [
    {
     "name": "stdout",
     "output_type": "stream",
     "text": [
      "Not a star: ROC AUC= 0.500\n",
      "Logistic: ROC AUC= 0.991\n"
     ]
    }
   ],
   "source": [
    "# summarize the scores\n",
    "print('Not a star: ROC AUC= %.3f'%(ns_auc))\n",
    "print('Logistic: ROC AUC= %.3f'%(lr_auc))\n"
   ]
  },
  {
   "cell_type": "code",
   "execution_count": 15,
   "metadata": {},
   "outputs": [],
   "source": [
    "# calculate the roc curvers\n",
    "ns_fpr,ns_tpr,_ = roc_curve(y_test,ns_prob)\n",
    "lr_fpr,lr_tpr,_ = roc_curve(y_test,lr_prob)\n"
   ]
  },
  {
   "cell_type": "code",
   "execution_count": 16,
   "metadata": {},
   "outputs": [
    {
     "data": {
      "image/png": "[encoded data removed]",
      "text/plain": [
       "<Figure size 432x288 with 1 Axes>"
      ]
     },
     "metadata": {
      "needs_background": "light"
     },
     "output_type": "display_data"
    }
   ],
   "source": [
    "# plot the curve for the model\n",
    "from matplotlib import pyplot\n",
    "pyplot.plot(ns_fpr,ns_tpr,linestyle='--',label='Not a star')\n",
    "pyplot.plot(lr_fpr,lr_tpr,marker='.',label='Logistic')\n",
    "\n",
    "# axis labels\n",
    "pyplot.xlabel('False Positive Rate')\n",
    "pyplot.ylabel('True Positive Rate')\n",
    "\n",
    "# show the legend\n",
    "pyplot.legend()\n",
    "\n",
    "# show the plot\n",
    "pyplot.show()"
   ]
  },
  {
   "cell_type": "code",
   "execution_count": 17,
   "metadata": {},
   "outputs": [
    {
     "name": "stdout",
     "output_type": "stream",
     "text": [
      "Logistic: f1=0.812 auc=0.827\n"
     ]
    }
   ],
   "source": [
    "### precision and recall curves\n",
    "from sklearn.metrics import precision_recall_curve\n",
    "from sklearn.metrics import f1_score\n",
    "from sklearn.metrics import auc\n",
    "lr_precision,lr_recall,_= precision_recall_curve(y_test,lr_prob)\n",
    "\n",
    "# predict class values\n",
    "yhat = logmodel.predict(x_test)\n",
    "lr_f1,lr_auc = f1_score(y_test,yhat),auc(lr_recall,lr_precision)\n",
    "\n",
    "# summarize the scores\n",
    "print('Logistic: f1=%.3f auc=%.3f'%(lr_f1,lr_auc))"
   ]
  },
  {
   "cell_type": "code",
   "execution_count": 19,
   "metadata": {},
   "outputs": [
    {
     "data": {
      "image/png": "[encoded data removed]",
      "text/plain": [
       "<Figure size 432x288 with 1 Axes>"
      ]
     },
     "metadata": {
      "needs_background": "light"
     },
     "output_type": "display_data"
    }
   ],
   "source": [
    "# plot the precision and recall curves\n",
    "not_star = len(y_test[y_test==1]/len(y_test))\n",
    "pyplot.plot([0,1],[not_star,not_star], linestyle='--', label= 'Not star')\n",
    "pyplot.plot(lr_recall,lr_precision,marker=',',label='Logistic')\n",
    "\n",
    "# axis labels\n",
    "pyplot.xlabel('Recall')\n",
    "pyplot.ylabel('Precision')\n",
    "\n",
    "#show the legend\n",
    "pyplot.legend()\n",
    "\n",
    "# show the plot\n",
    "pyplot.show()"
   ]
  },
  {
   "cell_type": "code",
   "execution_count": 17,
   "metadata": {},
   "outputs": [
    {
     "data": {
      "text/plain": [
       "1    751\n",
       "0    751\n",
       "Name: Rising_Star, dtype: int64"
      ]
     },
     "execution_count": 17,
     "metadata": {},
     "output_type": "execute_result"
    }
   ],
   "source": [
    "#### Performing oversampling technique ###\n"
   ]
  },
  {
   "cell_type": "code",
   "execution_count": 18,
   "metadata": {},
   "outputs": [
    {
     "data": {
      "text/plain": [
       "1    751\n",
       "0    751\n",
       "Name: Rising_Star, dtype: int64"
      ]
     },
     "execution_count": 18,
     "metadata": {},
     "output_type": "execute_result"
    }
   ],
   "source": [
    "#import the package for smote\n",
    "from imblearn.over_sampling import SMOTE\n",
    "\n",
    "## before oversampling\n",
    "y_train.value_counts()\n"
   ]
  },
  {
   "cell_type": "code",
   "execution_count": 19,
   "metadata": {},
   "outputs": [],
   "source": [
    "smt=SMOTE()\n",
    "x_train,y_train=smt.fit_sample(x_train,y_train)"
   ]
  },
  {
   "cell_type": "code",
   "execution_count": 20,
   "metadata": {},
   "outputs": [
    {
     "data": {
      "text/plain": [
       "1    751\n",
       "0    751\n",
       "Name: Rising_Star, dtype: int64"
      ]
     },
     "execution_count": 20,
     "metadata": {},
     "output_type": "execute_result"
    }
   ],
   "source": [
    "y_train.value_counts()"
   ]
  },
  {
   "cell_type": "code",
   "execution_count": 21,
   "metadata": {},
   "outputs": [
    {
     "data": {
      "text/plain": [
       "array([751, 751], dtype=int64)"
      ]
     },
     "execution_count": 21,
     "metadata": {},
     "output_type": "execute_result"
    }
   ],
   "source": [
    "np.bincount(y_train)"
   ]
  },
  {
   "cell_type": "code",
   "execution_count": 22,
   "metadata": {},
   "outputs": [
    {
     "data": {
      "text/plain": [
       "0.9816176470588235"
      ]
     },
     "execution_count": 22,
     "metadata": {},
     "output_type": "execute_result"
    }
   ],
   "source": [
    "accuracy_score(y_test,predictions)"
   ]
  },
  {
   "cell_type": "code",
   "execution_count": 25,
   "metadata": {},
   "outputs": [
    {
     "name": "stdout",
     "output_type": "stream",
     "text": [
      "Classification Report\n",
      "              precision    recall  f1-score   support\n",
      "\n",
      "           0       1.00      0.95      0.97       255\n",
      "           1       0.57      0.94      0.71        17\n",
      "\n",
      "    accuracy                           0.95       272\n",
      "   macro avg       0.78      0.95      0.84       272\n",
      "weighted avg       0.97      0.95      0.96       272\n",
      "\n",
      "Confusion Matrix\n",
      "[[243  12]\n",
      " [  1  16]]\n",
      "Accuracy Score\n",
      "0.9522058823529411\n"
     ]
    }
   ],
   "source": [
    "from sklearn.linear_model import LogisticRegression\n",
    "from sklearn.metrics import classification_report\n",
    "from sklearn.metrics import confusion_matrix,accuracy_score,precision_score\n",
    "model = LogisticRegression()\n",
    "model.fit(x_train,y_train)\n",
    "\n",
    "predictions = model.predict(x_test)\n",
    "print('Classification Report')\n",
    "print(classification_report(y_test, predictions))\n",
    "print('Confusion Matrix')\n",
    "print(confusion_matrix(y_test, predictions))\n",
    "print('Accuracy Score')\n",
    "print(accuracy_score(y_test, predictions))"
   ]
  }
 ],
 "metadata": {
  "kernelspec": {
   "display_name": "Python 3",
   "language": "python",
   "name": "python3"
  },
  "language_info": {
   "codemirror_mode": {
    "name": "ipython",
    "version": 3
   },
   "file_extension": ".py",
   "mimetype": "text/x-python",
   "name": "python",
   "nbconvert_exporter": "python",
   "pygments_lexer": "ipython3",
   "version": "3.7.6"
  }
 },
 "nbformat": 4,
 "nbformat_minor": 4
}
