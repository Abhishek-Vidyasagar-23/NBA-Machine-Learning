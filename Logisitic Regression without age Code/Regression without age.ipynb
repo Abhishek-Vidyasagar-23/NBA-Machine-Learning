{
 "cells": [
  {
   "cell_type": "code",
   "execution_count": 1,
   "metadata": {},
   "outputs": [],
   "source": [
    "import pandas as pd\n",
    "import numpy as np\n",
    "from patsy import dmatrices\n",
    "import matplotlib.pyplot as plt\n",
    "import statsmodels.api as sm\n",
    "from statsmodels.stats.outliers_influence import variance_inflation_factor\n",
    "import sklearn\n",
    "from sklearn.linear_model import LogisticRegression\n",
    "from sklearn.model_selection import train_test_split\n",
    "from sklearn import metrics\n"
   ]
  },
  {
   "cell_type": "code",
   "execution_count": 2,
   "metadata": {},
   "outputs": [],
   "source": [
    "# read the files into a dataframe\n",
    "df= pd.read_csv('vif_standardised_values.csv')"
   ]
  },
  {
   "cell_type": "code",
   "execution_count": 3,
   "metadata": {},
   "outputs": [
    {
     "data": {
      "text/html": [
       "<div>\n",
       "<style scoped>\n",
       "    .dataframe tbody tr th:only-of-type {\n",
       "        vertical-align: middle;\n",
       "    }\n",
       "\n",
       "    .dataframe tbody tr th {\n",
       "        vertical-align: top;\n",
       "    }\n",
       "\n",
       "    .dataframe thead th {\n",
       "        text-align: right;\n",
       "    }\n",
       "</style>\n",
       "<table border=\"1\" class=\"dataframe\">\n",
       "  <thead>\n",
       "    <tr style=\"text-align: right;\">\n",
       "      <th></th>\n",
       "      <th>GS</th>\n",
       "      <th>G</th>\n",
       "      <th>Assist_Pct</th>\n",
       "      <th>Usage_Pct</th>\n",
       "      <th>DRtg</th>\n",
       "      <th>Rising_Star</th>\n",
       "    </tr>\n",
       "  </thead>\n",
       "  <tbody>\n",
       "    <tr>\n",
       "      <th>0</th>\n",
       "      <td>-0.697077</td>\n",
       "      <td>-0.697992</td>\n",
       "      <td>-0.963125</td>\n",
       "      <td>-0.370282</td>\n",
       "      <td>-0.916925</td>\n",
       "      <td>0</td>\n",
       "    </tr>\n",
       "    <tr>\n",
       "      <th>1</th>\n",
       "      <td>-0.652427</td>\n",
       "      <td>0.424656</td>\n",
       "      <td>0.994419</td>\n",
       "      <td>0.471879</td>\n",
       "      <td>-0.278111</td>\n",
       "      <td>0</td>\n",
       "    </tr>\n",
       "    <tr>\n",
       "      <th>2</th>\n",
       "      <td>2.964228</td>\n",
       "      <td>1.707684</td>\n",
       "      <td>1.159983</td>\n",
       "      <td>0.967269</td>\n",
       "      <td>0.360703</td>\n",
       "      <td>0</td>\n",
       "    </tr>\n",
       "    <tr>\n",
       "      <th>3</th>\n",
       "      <td>1.044275</td>\n",
       "      <td>1.159724</td>\n",
       "      <td>-0.310611</td>\n",
       "      <td>0.042542</td>\n",
       "      <td>0.147765</td>\n",
       "      <td>0</td>\n",
       "    </tr>\n",
       "    <tr>\n",
       "      <th>4</th>\n",
       "      <td>-0.697077</td>\n",
       "      <td>-0.297046</td>\n",
       "      <td>-0.300871</td>\n",
       "      <td>-0.568438</td>\n",
       "      <td>-0.916925</td>\n",
       "      <td>0</td>\n",
       "    </tr>\n",
       "  </tbody>\n",
       "</table>\n",
       "</div>"
      ],
      "text/plain": [
       "         GS         G  Assist_Pct  Usage_Pct      DRtg  Rising_Star\n",
       "0 -0.697077 -0.697992   -0.963125  -0.370282 -0.916925            0\n",
       "1 -0.652427  0.424656    0.994419   0.471879 -0.278111            0\n",
       "2  2.964228  1.707684    1.159983   0.967269  0.360703            0\n",
       "3  1.044275  1.159724   -0.310611   0.042542  0.147765            0\n",
       "4 -0.697077 -0.297046   -0.300871  -0.568438 -0.916925            0"
      ]
     },
     "execution_count": 3,
     "metadata": {},
     "output_type": "execute_result"
    }
   ],
   "source": [
    "df.head()"
   ]
  },
  {
   "cell_type": "code",
   "execution_count": 4,
   "metadata": {},
   "outputs": [
    {
     "name": "stdout",
     "output_type": "stream",
     "text": [
      "GS+G+Assist_Pct+Usage_Pct+DRtg+Rising_Star\n"
     ]
    }
   ],
   "source": [
    "\n",
    "features=\"+\".join(df.columns)\n",
    "\n",
    "print(features)"
   ]
  },
  {
   "cell_type": "code",
   "execution_count": 5,
   "metadata": {},
   "outputs": [],
   "source": [
    "# Using Variance Inflation Factor\n",
    "y,X = dmatrices('Rising_Star~ GS+G+Assist_Pct+Usage_Pct+DRtg',df,return_type='dataframe')"
   ]
  },
  {
   "cell_type": "code",
   "execution_count": 6,
   "metadata": {},
   "outputs": [
    {
     "data": {
      "text/html": [
       "<div>\n",
       "<style scoped>\n",
       "    .dataframe tbody tr th:only-of-type {\n",
       "        vertical-align: middle;\n",
       "    }\n",
       "\n",
       "    .dataframe tbody tr th {\n",
       "        vertical-align: top;\n",
       "    }\n",
       "\n",
       "    .dataframe thead th {\n",
       "        text-align: right;\n",
       "    }\n",
       "</style>\n",
       "<table border=\"1\" class=\"dataframe\">\n",
       "  <thead>\n",
       "    <tr style=\"text-align: right;\">\n",
       "      <th></th>\n",
       "      <th>VIF Factor</th>\n",
       "      <th>Features</th>\n",
       "    </tr>\n",
       "  </thead>\n",
       "  <tbody>\n",
       "    <tr>\n",
       "      <th>0</th>\n",
       "      <td>1.0</td>\n",
       "      <td>Intercept</td>\n",
       "    </tr>\n",
       "    <tr>\n",
       "      <th>1</th>\n",
       "      <td>2.3</td>\n",
       "      <td>GS</td>\n",
       "    </tr>\n",
       "    <tr>\n",
       "      <th>2</th>\n",
       "      <td>2.1</td>\n",
       "      <td>G</td>\n",
       "    </tr>\n",
       "    <tr>\n",
       "      <th>3</th>\n",
       "      <td>1.2</td>\n",
       "      <td>Assist_Pct</td>\n",
       "    </tr>\n",
       "    <tr>\n",
       "      <th>4</th>\n",
       "      <td>1.3</td>\n",
       "      <td>Usage_Pct</td>\n",
       "    </tr>\n",
       "    <tr>\n",
       "      <th>5</th>\n",
       "      <td>1.0</td>\n",
       "      <td>DRtg</td>\n",
       "    </tr>\n",
       "  </tbody>\n",
       "</table>\n",
       "</div>"
      ],
      "text/plain": [
       "   VIF Factor    Features\n",
       "0         1.0   Intercept\n",
       "1         2.3          GS\n",
       "2         2.1           G\n",
       "3         1.2  Assist_Pct\n",
       "4         1.3   Usage_Pct\n",
       "5         1.0        DRtg"
      ]
     },
     "execution_count": 6,
     "metadata": {},
     "output_type": "execute_result"
    }
   ],
   "source": [
    "vif=pd.DataFrame()\n",
    "vif[\"VIF Factor\"] = [variance_inflation_factor(X.values, i) for i in range(X.shape[1])]\n",
    "vif[\"Features\"]=X.columns\n",
    "vif.round(1)"
   ]
  },
  {
   "cell_type": "code",
   "execution_count": 7,
   "metadata": {},
   "outputs": [
    {
     "name": "stdout",
     "output_type": "stream",
     "text": [
      "              precision    recall  f1-score   support\n",
      "\n",
      "           0       0.99      0.97      0.98       255\n",
      "           1       0.67      0.82      0.74        17\n",
      "\n",
      "    accuracy                           0.96       272\n",
      "   macro avg       0.83      0.90      0.86       272\n",
      "weighted avg       0.97      0.96      0.97       272\n",
      "\n",
      "[[248   7]\n",
      " [  3  14]]\n",
      "0.9632352941176471\n"
     ]
    }
   ],
   "source": [
    "# Logistic Regression Model\n",
    "from sklearn.model_selection import train_test_split\n",
    "from sklearn.linear_model import LogisticRegression\n",
    "from sklearn.metrics import classification_report\n",
    "from sklearn.metrics import confusion_matrix,accuracy_score\n",
    "from sklearn import preprocessing\n",
    "x = df.drop('Rising_Star', axis=1)\n",
    "y = df['Rising_Star']\n",
    "\n",
    "# Split the data into 75% & 25%  and fit the mmodel\n",
    "x_train, x_test, y_train, y_test = train_test_split(x, y, test_size=0.25, random_state=1)\n",
    "logmodel = LogisticRegression()\n",
    "logmodel.fit(x_train, y_train)\n",
    "\n",
    "# print the classification Report\n",
    "predictions = logmodel.predict(x_test)\n",
    "print(classification_report(y_test, predictions))\n",
    "print(confusion_matrix(y_test, predictions))\n",
    "print(accuracy_score(y_test, predictions))"
   ]
  },
  {
   "cell_type": "code",
   "execution_count": 8,
   "metadata": {
    "scrolled": false
   },
   "outputs": [
    {
     "name": "stdout",
     "output_type": "stream",
     "text": [
      "Optimization terminated successfully.\n",
      "         Current function value: 0.622344\n",
      "         Iterations 5\n",
      "                         Results: Logit\n",
      "================================================================\n",
      "Model:              Logit            Pseudo R-squared: -1.328   \n",
      "Dependent Variable: Rising_Star      AIC:              1364.2212\n",
      "Date:               2020-06-08 17:38 BIC:              1389.1817\n",
      "No. Observations:   1088             Log-Likelihood:   -677.11  \n",
      "Df Model:           4                LL-Null:          -290.83  \n",
      "Df Residuals:       1083             LLR p-value:      1.0000   \n",
      "Converged:          1.0000           Scale:            1.0000   \n",
      "No. Iterations:     5.0000                                      \n",
      "-----------------------------------------------------------------\n",
      "              Coef.   Std.Err.     z     P>|z|    [0.025   0.975]\n",
      "-----------------------------------------------------------------\n",
      "GS            0.8905    0.1119   7.9583  0.0000   0.6712   1.1099\n",
      "G            -0.2594    0.0928  -2.7940  0.0052  -0.4414  -0.0774\n",
      "Assist_Pct    0.1791    0.0744   2.4081  0.0160   0.0333   0.3249\n",
      "Usage_Pct     0.1655    0.0730   2.2671  0.0234   0.0224   0.3086\n",
      "DRtg         -0.1292    0.0654  -1.9738  0.0484  -0.2574  -0.0009\n",
      "================================================================\n",
      "\n"
     ]
    }
   ],
   "source": [
    "# check for P-values\n",
    "import statsmodels.api as sm\n",
    "logit_model=sm.Logit(y,x)\n",
    "result=logit_model.fit()\n",
    "print(result.summary2())"
   ]
  },
  {
   "cell_type": "code",
   "execution_count": 66,
   "metadata": {},
   "outputs": [
    {
     "name": "stdout",
     "output_type": "stream",
     "text": [
      "              precision    recall  f1-score   support\n",
      "\n",
      "           0       0.99      0.97      0.98       255\n",
      "           1       0.67      0.82      0.74        17\n",
      "\n",
      "    accuracy                           0.96       272\n",
      "   macro avg       0.83      0.90      0.86       272\n",
      "weighted avg       0.97      0.96      0.97       272\n",
      "\n",
      "[[248   7]\n",
      " [  3  14]]\n",
      "0.9632352941176471\n"
     ]
    }
   ],
   "source": [
    "#### penalty = l1 regression or Lasso Regression\n",
    "# l1 regression\n",
    "logmodel=LogisticRegression(penalty='l1',solver='liblinear')\n",
    "logmodel.fit(x_train,y_train)\n",
    "\n",
    "predictions = logmodel.predict(x_test)\n",
    "print(classification_report(y_test, predictions))\n",
    "print(confusion_matrix(y_test, predictions))\n",
    "print(accuracy_score(y_test, predictions))"
   ]
  },
  {
   "cell_type": "code",
   "execution_count": 67,
   "metadata": {},
   "outputs": [
    {
     "name": "stdout",
     "output_type": "stream",
     "text": [
      "              precision    recall  f1-score   support\n",
      "\n",
      "           0       0.99      0.98      0.98       255\n",
      "           1       0.70      0.82      0.76        17\n",
      "\n",
      "    accuracy                           0.97       272\n",
      "   macro avg       0.84      0.90      0.87       272\n",
      "weighted avg       0.97      0.97      0.97       272\n",
      "\n",
      "[[249   6]\n",
      " [  3  14]]\n",
      "0.9669117647058824\n"
     ]
    }
   ],
   "source": [
    "# l2 regression Ridge Regression\n",
    "logmodel=LogisticRegression(penalty='l2',solver='liblinear')\n",
    "logmodel.fit(x_train,y_train)\n",
    "\n",
    "predictions = logmodel.predict(x_test)\n",
    "print(classification_report(y_test, predictions))\n",
    "print(confusion_matrix(y_test, predictions))\n",
    "print(accuracy_score(y_test, predictions))"
   ]
  },
  {
   "cell_type": "code",
   "execution_count": 11,
   "metadata": {},
   "outputs": [],
   "source": [
    "# Plotting AUC- ROC curve\n",
    "from sklearn.metrics import roc_curve\n",
    "from sklearn.metrics import roc_auc_score\n",
    "from matplotlib import pyplot\n"
   ]
  },
  {
   "cell_type": "code",
   "execution_count": 12,
   "metadata": {},
   "outputs": [],
   "source": [
    "# generate a no skill prediction( for the majority class)\n",
    "ns_prob = [0 for _ in range(len(y_test))]\n",
    "\n",
    "# predict the probabilities\n",
    "lr_prob= logmodel.predict_proba(x_test)\n",
    "\n",
    "# keep the probabilities for positive outcomes only\n",
    "lr_prob = lr_prob[:,1]\n"
   ]
  },
  {
   "cell_type": "code",
   "execution_count": 13,
   "metadata": {},
   "outputs": [],
   "source": [
    "# calculate the scores \n",
    "ns_auc = roc_auc_score(y_test,ns_prob)\n",
    "lr_auc = roc_auc_score(y_test,lr_prob)\n"
   ]
  },
  {
   "cell_type": "code",
   "execution_count": 14,
   "metadata": {},
   "outputs": [
    {
     "name": "stdout",
     "output_type": "stream",
     "text": [
      "Not a star: ROC AUC= 0.500\n",
      "Logistic: ROC AUC= 0.989\n"
     ]
    }
   ],
   "source": [
    "# summarize the scores\n",
    "print('Not a star: ROC AUC= %.3f'%(ns_auc))\n",
    "print('Logistic: ROC AUC= %.3f'%(lr_auc))\n"
   ]
  },
  {
   "cell_type": "code",
   "execution_count": 15,
   "metadata": {},
   "outputs": [],
   "source": [
    "# calculate the roc curvers\n",
    "ns_fpr,ns_tpr,_ = roc_curve(y_test,ns_prob)\n",
    "lr_fpr,lr_tpr,_ = roc_curve(y_test,lr_prob)"
   ]
  },
  {
   "cell_type": "code",
   "execution_count": 16,
   "metadata": {},
   "outputs": [
    {
     "data": {
      "image/png": "[encoded data removed]",
      "text/plain": [
       "<Figure size 432x288 with 1 Axes>"
      ]
     },
     "metadata": {
      "needs_background": "light"
     },
     "output_type": "display_data"
    }
   ],
   "source": [
    "# plot the curve for the model\n",
    "from matplotlib import pyplot\n",
    "pyplot.plot(ns_fpr,ns_tpr,linestyle='--',label='Not a star')\n",
    "pyplot.plot(lr_fpr,lr_tpr,marker='.',label='Logistic')\n",
    "\n",
    "# axis labels\n",
    "pyplot.xlabel('False Positive Rate')\n",
    "pyplot.ylabel('True Positive Rate')\n",
    "\n",
    "# show the legend\n",
    "pyplot.legend()\n",
    "\n",
    "# show the plot\n",
    "pyplot.show()"
   ]
  }
 ],
 "metadata": {
  "kernelspec": {
   "display_name": "Python 3",
   "language": "python",
   "name": "python3"
  },
  "language_info": {
   "codemirror_mode": {
    "name": "ipython",
    "version": 3
   },
   "file_extension": ".py",
   "mimetype": "text/x-python",
   "name": "python",
   "nbconvert_exporter": "python",
   "pygments_lexer": "ipython3",
   "version": "3.7.6"
  }
 },
 "nbformat": 4,
 "nbformat_minor": 4
}