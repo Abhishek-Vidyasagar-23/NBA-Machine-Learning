{
 "cells": [
  {
   "cell_type": "code",
   "execution_count": 1,
   "metadata": {},
   "outputs": [],
   "source": [
    "#import the necessary packages\n",
    "import pandas as pd\n",
    "import numpy as np\n",
    "from patsy import dmatrices\n",
    "import matplotlib.pyplot as plt\n",
    "import statsmodels.api as sm\n",
    "from statsmodels.stats.outliers_influence import variance_inflation_factor\n",
    "import sklearn\n",
    "from sklearn.linear_model import LogisticRegression\n",
    "from sklearn.model_selection import train_test_split\n",
    "from sklearn import metrics"
   ]
  },
  {
   "cell_type": "code",
   "execution_count": 2,
   "metadata": {},
   "outputs": [],
   "source": [
    "# read the csv file\n",
    "df= pd.read_csv('standardised_values_400.csv')"
   ]
  },
  {
   "cell_type": "code",
   "execution_count": 3,
   "metadata": {},
   "outputs": [
    {
     "data": {
      "text/html": [
       "<div>\n",
       "<style scoped>\n",
       "    .dataframe tbody tr th:only-of-type {\n",
       "        vertical-align: middle;\n",
       "    }\n",
       "\n",
       "    .dataframe tbody tr th {\n",
       "        vertical-align: top;\n",
       "    }\n",
       "\n",
       "    .dataframe thead th {\n",
       "        text-align: right;\n",
       "    }\n",
       "</style>\n",
       "<table border=\"1\" class=\"dataframe\">\n",
       "  <thead>\n",
       "    <tr style=\"text-align: right;\">\n",
       "      <th></th>\n",
       "      <th>GS</th>\n",
       "      <th>G</th>\n",
       "      <th>Assist_Pct</th>\n",
       "      <th>Usage_Pct</th>\n",
       "      <th>DRtg</th>\n",
       "      <th>Rising_Star</th>\n",
       "    </tr>\n",
       "  </thead>\n",
       "  <tbody>\n",
       "    <tr>\n",
       "      <th>0</th>\n",
       "      <td>-0.697077</td>\n",
       "      <td>-0.697992</td>\n",
       "      <td>-0.963125</td>\n",
       "      <td>-0.370282</td>\n",
       "      <td>-0.916925</td>\n",
       "      <td>0</td>\n",
       "    </tr>\n",
       "    <tr>\n",
       "      <th>1</th>\n",
       "      <td>-0.652427</td>\n",
       "      <td>0.424656</td>\n",
       "      <td>0.994419</td>\n",
       "      <td>0.471879</td>\n",
       "      <td>-0.278111</td>\n",
       "      <td>0</td>\n",
       "    </tr>\n",
       "    <tr>\n",
       "      <th>2</th>\n",
       "      <td>2.964228</td>\n",
       "      <td>1.707684</td>\n",
       "      <td>1.159983</td>\n",
       "      <td>0.967269</td>\n",
       "      <td>0.360703</td>\n",
       "      <td>0</td>\n",
       "    </tr>\n",
       "    <tr>\n",
       "      <th>3</th>\n",
       "      <td>1.044275</td>\n",
       "      <td>1.159724</td>\n",
       "      <td>-0.310611</td>\n",
       "      <td>0.042542</td>\n",
       "      <td>0.147765</td>\n",
       "      <td>0</td>\n",
       "    </tr>\n",
       "    <tr>\n",
       "      <th>4</th>\n",
       "      <td>-0.697077</td>\n",
       "      <td>-0.297046</td>\n",
       "      <td>-0.300871</td>\n",
       "      <td>-0.568438</td>\n",
       "      <td>-0.916925</td>\n",
       "      <td>0</td>\n",
       "    </tr>\n",
       "  </tbody>\n",
       "</table>\n",
       "</div>"
      ],
      "text/plain": [
       "         GS         G  Assist_Pct  Usage_Pct      DRtg  Rising_Star\n",
       "0 -0.697077 -0.697992   -0.963125  -0.370282 -0.916925            0\n",
       "1 -0.652427  0.424656    0.994419   0.471879 -0.278111            0\n",
       "2  2.964228  1.707684    1.159983   0.967269  0.360703            0\n",
       "3  1.044275  1.159724   -0.310611   0.042542  0.147765            0\n",
       "4 -0.697077 -0.297046   -0.300871  -0.568438 -0.916925            0"
      ]
     },
     "execution_count": 3,
     "metadata": {},
     "output_type": "execute_result"
    }
   ],
   "source": [
    "df.head()"
   ]
  },
  {
   "cell_type": "code",
   "execution_count": 4,
   "metadata": {},
   "outputs": [],
   "source": [
    "# perform variance Inflation Factor\n",
    "y,X = dmatrices('Rising_Star~ GS+G+Assist_Pct+Usage_Pct+DRtg',df,return_type='dataframe')"
   ]
  },
  {
   "cell_type": "code",
   "execution_count": 5,
   "metadata": {},
   "outputs": [
    {
     "name": "stdout",
     "output_type": "stream",
     "text": [
      "              precision    recall  f1-score   support\n",
      "\n",
      "           0       0.97      0.96      0.97        74\n",
      "           1       0.89      0.92      0.91        26\n",
      "\n",
      "    accuracy                           0.95       100\n",
      "   macro avg       0.93      0.94      0.94       100\n",
      "weighted avg       0.95      0.95      0.95       100\n",
      "\n",
      "[[71  3]\n",
      " [ 2 24]]\n",
      "0.95\n"
     ]
    }
   ],
   "source": [
    "from sklearn.model_selection import train_test_split\n",
    "from sklearn.linear_model import LogisticRegression\n",
    "from sklearn.metrics import classification_report\n",
    "from sklearn.metrics import confusion_matrix,accuracy_score\n",
    "from sklearn import preprocessing\n",
    "x = df.drop('Rising_Star', axis=1)\n",
    "y = df['Rising_Star']\n",
    "\n",
    "x_train, x_test, y_train, y_test = train_test_split(x, y, test_size=0.25, random_state=1)\n",
    "logmodel = LogisticRegression()\n",
    "logmodel.fit(x_train, y_train)\n",
    "\n",
    "\n",
    "predictions = logmodel.predict(x_test)\n",
    "print(classification_report(y_test, predictions))\n",
    "print(confusion_matrix(y_test, predictions))\n",
    "print(accuracy_score(y_test, predictions))"
   ]
  },
  {
   "cell_type": "code",
   "execution_count": 6,
   "metadata": {},
   "outputs": [],
   "source": [
    "from sklearn.metrics import roc_curve\n",
    "from sklearn.metrics import roc_auc_score\n",
    "from matplotlib import pyplot"
   ]
  },
  {
   "cell_type": "code",
   "execution_count": 7,
   "metadata": {},
   "outputs": [],
   "source": [
    "# generate a no skill prediction( for the majority class)\n",
    "ns_prob = [0 for _ in range(len(y_test))]\n",
    "\n",
    "# predict the probabilities\n",
    "lr_prob= logmodel.predict_proba(x_test)\n",
    "\n",
    "# keep the probabilities for positive outcomes only\n",
    "lr_prob = lr_prob[:,1]\n"
   ]
  },
  {
   "cell_type": "code",
   "execution_count": 8,
   "metadata": {},
   "outputs": [],
   "source": [
    "# calculate the scores \n",
    "ns_auc = roc_auc_score(y_test,ns_prob)\n",
    "lr_auc = roc_auc_score(y_test,lr_prob)\n"
   ]
  },
  {
   "cell_type": "code",
   "execution_count": 9,
   "metadata": {},
   "outputs": [
    {
     "name": "stdout",
     "output_type": "stream",
     "text": [
      "Not a star: ROC AUC= 0.500\n",
      "Logistic: ROC AUC= 0.982\n"
     ]
    }
   ],
   "source": [
    "# summarize the scores\n",
    "print('Not a star: ROC AUC= %.3f'%(ns_auc))\n",
    "print('Logistic: ROC AUC= %.3f'%(lr_auc))\n"
   ]
  },
  {
   "cell_type": "code",
   "execution_count": 10,
   "metadata": {},
   "outputs": [],
   "source": [
    "# calculate the roc curvers\n",
    "ns_fpr,ns_tpr,_ = roc_curve(y_test,ns_prob)\n",
    "lr_fpr,lr_tpr,_ = roc_curve(y_test,lr_prob)"
   ]
  },
  {
   "cell_type": "code",
   "execution_count": 11,
   "metadata": {},
   "outputs": [
    {
     "data": {
      "image/png": "[encoded data removed]",
      "text/plain": [
       "<Figure size 432x288 with 1 Axes>"
      ]
     },
     "metadata": {
      "needs_background": "light"
     },
     "output_type": "display_data"
    }
   ],
   "source": [
    "# plot the curve for the model\n",
    "from matplotlib import pyplot\n",
    "pyplot.plot(ns_fpr,ns_tpr,linestyle='--',label='Not a star')\n",
    "pyplot.plot(lr_fpr,lr_tpr,marker='.',label='Logistic')\n",
    "\n",
    "# axis labels\n",
    "pyplot.xlabel('False Positive Rate')\n",
    "pyplot.ylabel('True Positive Rate')\n",
    "\n",
    "# show the legend\n",
    "pyplot.legend()\n",
    "\n",
    "# show the plot\n",
    "pyplot.show()"
   ]
  }
 ],
 "metadata": {
  "kernelspec": {
   "display_name": "Python 3",
   "language": "python",
   "name": "python3"
  },
  "language_info": {
   "codemirror_mode": {
    "name": "ipython",
    "version": 3
   },
   "file_extension": ".py",
   "mimetype": "text/x-python",
   "name": "python",
   "nbconvert_exporter": "python",
   "pygments_lexer": "ipython3",
   "version": "3.7.6"
  }
 },
 "nbformat": 4,
 "nbformat_minor": 4
}